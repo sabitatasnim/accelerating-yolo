{
 "cells": [
  {
   "cell_type": "code",
   "execution_count": 13,
   "metadata": {},
   "outputs": [],
   "source": [
    "import fiftyone as fo\n",
    "import fiftyone.zoo as foz\n",
    "\n",
    "# dataset_type = fo.types\n",
    "\n",
    "# dir(dataset_type)"
   ]
  },
  {
   "cell_type": "code",
   "execution_count": 14,
   "metadata": {},
   "outputs": [
    {
     "name": "stdout",
     "output_type": "stream",
     "text": [
      "Split 'test' already prepared\n",
      "Loading 'bdd100k' split 'test'\n",
      " 100% |█████████████| 20000/20000 [8.1s elapsed, 0s remaining, 2.5K samples/s]      \n",
      "Dataset 'bdd100k-test' created\n"
     ]
    }
   ],
   "source": [
    "\n",
    "source_dir = '/home/davendra/Documents/datasets/bdd_dataset'\n",
    "\n",
    "dataset = foz.load_zoo_dataset(\n",
    "    \"bdd100k\",\n",
    "    split=\"test\",\n",
    "    source_dir=source_dir,\n",
    "    copy_files=True,\n",
    ")"
   ]
  },
  {
   "cell_type": "code",
   "execution_count": 16,
   "metadata": {},
   "outputs": [
    {
     "ename": "ValueError",
     "evalue": "No compatible field(s) of type <class 'fiftyone.core.labels.Detections'> found",
     "output_type": "error",
     "traceback": [
      "\u001b[0;31m---------------------------------------------------------------------------\u001b[0m",
      "\u001b[0;31mValueError\u001b[0m                                Traceback (most recent call last)",
      "Cell \u001b[0;32mIn[16], line 6\u001b[0m\n\u001b[1;32m      3\u001b[0m \u001b[39m#YOLOV5\u001b[39;00m\n\u001b[1;32m      4\u001b[0m dataset_type \u001b[39m=\u001b[39m fo\u001b[39m.\u001b[39mtypes\u001b[39m.\u001b[39mYOLOv5Dataset\n\u001b[0;32m----> 6\u001b[0m dataset\u001b[39m.\u001b[39;49mexport(\n\u001b[1;32m      7\u001b[0m     export_dir\u001b[39m=\u001b[39;49mexport_dir,\n\u001b[1;32m      8\u001b[0m     dataset_type\u001b[39m=\u001b[39;49mdataset_type\n\u001b[1;32m      9\u001b[0m     \u001b[39m#export_media=\"copy\",\u001b[39;49;00m\n\u001b[1;32m     10\u001b[0m     \u001b[39m#label_field=label_field,\u001b[39;49;00m\n\u001b[1;32m     11\u001b[0m )\n",
      "File \u001b[0;32m~/.local/lib/python3.10/site-packages/fiftyone/core/collections.py:7650\u001b[0m, in \u001b[0;36mSampleCollection.export\u001b[0;34m(self, export_dir, dataset_type, data_path, labels_path, export_media, rel_dir, dataset_exporter, label_field, frame_labels_field, overwrite, **kwargs)\u001b[0m\n\u001b[1;32m   7647\u001b[0m     export_dir, _ \u001b[39m=\u001b[39m etau\u001b[39m.\u001b[39msplit_archive(archive_path)\n\u001b[1;32m   7649\u001b[0m \u001b[39m# Perform the export\u001b[39;00m\n\u001b[0;32m-> 7650\u001b[0m _export(\n\u001b[1;32m   7651\u001b[0m     \u001b[39mself\u001b[39;49m,\n\u001b[1;32m   7652\u001b[0m     export_dir\u001b[39m=\u001b[39;49mexport_dir,\n\u001b[1;32m   7653\u001b[0m     dataset_type\u001b[39m=\u001b[39;49mdataset_type,\n\u001b[1;32m   7654\u001b[0m     data_path\u001b[39m=\u001b[39;49mdata_path,\n\u001b[1;32m   7655\u001b[0m     labels_path\u001b[39m=\u001b[39;49mlabels_path,\n\u001b[1;32m   7656\u001b[0m     export_media\u001b[39m=\u001b[39;49mexport_media,\n\u001b[1;32m   7657\u001b[0m     rel_dir\u001b[39m=\u001b[39;49mrel_dir,\n\u001b[1;32m   7658\u001b[0m     dataset_exporter\u001b[39m=\u001b[39;49mdataset_exporter,\n\u001b[1;32m   7659\u001b[0m     label_field\u001b[39m=\u001b[39;49mlabel_field,\n\u001b[1;32m   7660\u001b[0m     frame_labels_field\u001b[39m=\u001b[39;49mframe_labels_field,\n\u001b[1;32m   7661\u001b[0m     overwrite\u001b[39m=\u001b[39;49moverwrite,\n\u001b[1;32m   7662\u001b[0m     \u001b[39m*\u001b[39;49m\u001b[39m*\u001b[39;49mkwargs,\n\u001b[1;32m   7663\u001b[0m )\n\u001b[1;32m   7665\u001b[0m \u001b[39m# Make archive, if requested\u001b[39;00m\n\u001b[1;32m   7666\u001b[0m \u001b[39mif\u001b[39;00m archive_path \u001b[39mis\u001b[39;00m \u001b[39mnot\u001b[39;00m \u001b[39mNone\u001b[39;00m:\n",
      "File \u001b[0;32m~/.local/lib/python3.10/site-packages/fiftyone/core/collections.py:10047\u001b[0m, in \u001b[0;36m_export\u001b[0;34m(sample_collection, export_dir, dataset_type, data_path, labels_path, export_media, rel_dir, dataset_exporter, label_field, frame_labels_field, overwrite, **kwargs)\u001b[0m\n\u001b[1;32m  10044\u001b[0m \u001b[39m# Get label field(s) to export\u001b[39;00m\n\u001b[1;32m  10045\u001b[0m \u001b[39mif\u001b[39;00m \u001b[39misinstance\u001b[39m(dataset_exporter, foud\u001b[39m.\u001b[39mLabeledImageDatasetExporter):\n\u001b[1;32m  10046\u001b[0m     \u001b[39m# Labeled images\u001b[39;00m\n\u001b[0;32m> 10047\u001b[0m     label_field \u001b[39m=\u001b[39m sample_collection\u001b[39m.\u001b[39;49m_parse_label_field(\n\u001b[1;32m  10048\u001b[0m         label_field,\n\u001b[1;32m  10049\u001b[0m         dataset_exporter\u001b[39m=\u001b[39;49mdataset_exporter,\n\u001b[1;32m  10050\u001b[0m         allow_coercion\u001b[39m=\u001b[39;49m\u001b[39mTrue\u001b[39;49;00m,\n\u001b[1;32m  10051\u001b[0m         required\u001b[39m=\u001b[39;49m\u001b[39mTrue\u001b[39;49;00m,\n\u001b[1;32m  10052\u001b[0m     )\n\u001b[1;32m  10053\u001b[0m     frame_labels_field \u001b[39m=\u001b[39m \u001b[39mNone\u001b[39;00m\n\u001b[1;32m  10054\u001b[0m \u001b[39melif\u001b[39;00m \u001b[39misinstance\u001b[39m(dataset_exporter, foud\u001b[39m.\u001b[39mLabeledVideoDatasetExporter):\n\u001b[1;32m  10055\u001b[0m     \u001b[39m# Labeled videos\u001b[39;00m\n",
      "File \u001b[0;32m~/.local/lib/python3.10/site-packages/fiftyone/core/collections.py:8974\u001b[0m, in \u001b[0;36mSampleCollection._parse_label_field\u001b[0;34m(self, label_field, dataset_exporter, allow_coercion, force_dict, required)\u001b[0m\n\u001b[1;32m   8966\u001b[0m \u001b[39mdef\u001b[39;00m \u001b[39m_parse_label_field\u001b[39m(\n\u001b[1;32m   8967\u001b[0m     \u001b[39mself\u001b[39m,\n\u001b[1;32m   8968\u001b[0m     label_field,\n\u001b[0;32m   (...)\u001b[0m\n\u001b[1;32m   8972\u001b[0m     required\u001b[39m=\u001b[39m\u001b[39mFalse\u001b[39;00m,\n\u001b[1;32m   8973\u001b[0m ):\n\u001b[0;32m-> 8974\u001b[0m     \u001b[39mreturn\u001b[39;00m _parse_label_field(\n\u001b[1;32m   8975\u001b[0m         \u001b[39mself\u001b[39;49m,\n\u001b[1;32m   8976\u001b[0m         label_field,\n\u001b[1;32m   8977\u001b[0m         dataset_exporter\u001b[39m=\u001b[39;49mdataset_exporter,\n\u001b[1;32m   8978\u001b[0m         allow_coercion\u001b[39m=\u001b[39;49mallow_coercion,\n\u001b[1;32m   8979\u001b[0m         force_dict\u001b[39m=\u001b[39;49mforce_dict,\n\u001b[1;32m   8980\u001b[0m         required\u001b[39m=\u001b[39;49mrequired,\n\u001b[1;32m   8981\u001b[0m     )\n",
      "File \u001b[0;32m~/.local/lib/python3.10/site-packages/fiftyone/core/collections.py:9321\u001b[0m, in \u001b[0;36m_parse_label_field\u001b[0;34m(sample_collection, label_field, dataset_exporter, allow_coercion, force_dict, required)\u001b[0m\n\u001b[1;32m   9318\u001b[0m     \u001b[39mreturn\u001b[39;00m {f: f \u001b[39mfor\u001b[39;00m f \u001b[39min\u001b[39;00m label_field}\n\u001b[1;32m   9320\u001b[0m \u001b[39mif\u001b[39;00m label_field \u001b[39mis\u001b[39;00m \u001b[39mNone\u001b[39;00m \u001b[39mand\u001b[39;00m dataset_exporter \u001b[39mis\u001b[39;00m \u001b[39mnot\u001b[39;00m \u001b[39mNone\u001b[39;00m:\n\u001b[0;32m-> 9321\u001b[0m     label_field \u001b[39m=\u001b[39m _get_default_label_fields_for_exporter(\n\u001b[1;32m   9322\u001b[0m         sample_collection,\n\u001b[1;32m   9323\u001b[0m         dataset_exporter,\n\u001b[1;32m   9324\u001b[0m         allow_coercion\u001b[39m=\u001b[39;49mallow_coercion,\n\u001b[1;32m   9325\u001b[0m         required\u001b[39m=\u001b[39;49mrequired,\n\u001b[1;32m   9326\u001b[0m     )\n\u001b[1;32m   9328\u001b[0m \u001b[39mif\u001b[39;00m label_field \u001b[39mis\u001b[39;00m \u001b[39mNone\u001b[39;00m \u001b[39mand\u001b[39;00m required:\n\u001b[1;32m   9329\u001b[0m     \u001b[39mraise\u001b[39;00m \u001b[39mValueError\u001b[39;00m(\n\u001b[1;32m   9330\u001b[0m         \u001b[39m\"\u001b[39m\u001b[39mUnable to find any label fields matching the provided arguments\u001b[39m\u001b[39m\"\u001b[39m\n\u001b[1;32m   9331\u001b[0m     )\n",
      "File \u001b[0;32m~/.local/lib/python3.10/site-packages/fiftyone/core/collections.py:9435\u001b[0m, in \u001b[0;36m_get_default_label_fields_for_exporter\u001b[0;34m(sample_collection, dataset_exporter, allow_coercion, required)\u001b[0m\n\u001b[1;32m   9431\u001b[0m     \u001b[39mreturn\u001b[39;00m label_field_or_dict\n\u001b[1;32m   9433\u001b[0m \u001b[39mif\u001b[39;00m required:\n\u001b[1;32m   9434\u001b[0m     \u001b[39m# Strange formatting is because `label_cls` may be a tuple\u001b[39;00m\n\u001b[0;32m-> 9435\u001b[0m     \u001b[39mraise\u001b[39;00m \u001b[39mValueError\u001b[39;00m(\n\u001b[1;32m   9436\u001b[0m         \u001b[39m\"\u001b[39m\u001b[39mNo compatible field(s) of type \u001b[39m\u001b[39m%s\u001b[39;00m\u001b[39m found\u001b[39m\u001b[39m\"\u001b[39m \u001b[39m%\u001b[39m (label_cls,)\n\u001b[1;32m   9437\u001b[0m     )\n\u001b[1;32m   9439\u001b[0m \u001b[39mreturn\u001b[39;00m \u001b[39mNone\u001b[39;00m\n",
      "\u001b[0;31mValueError\u001b[0m: No compatible field(s) of type <class 'fiftyone.core.labels.Detections'> found"
     ]
    }
   ],
   "source": [
    "export_dir = '/home/davendra/Documents/exported_datasets/bdd100k/test'\n",
    "\n",
    "#YOLOV5\n",
    "dataset_type = fo.types.YOLOv5Dataset\n",
    "\n",
    "dataset.export(\n",
    "    export_dir=export_dir,\n",
    "    dataset_type=dataset_type\n",
    "    #export_media=\"copy\",\n",
    "    #label_field=label_field,\n",
    ")"
   ]
  }
 ],
 "metadata": {
  "kernelspec": {
   "display_name": "Python 3",
   "language": "python",
   "name": "python3"
  },
  "language_info": {
   "codemirror_mode": {
    "name": "ipython",
    "version": 3
   },
   "file_extension": ".py",
   "mimetype": "text/x-python",
   "name": "python",
   "nbconvert_exporter": "python",
   "pygments_lexer": "ipython3",
   "version": "3.10.6"
  },
  "orig_nbformat": 4
 },
 "nbformat": 4,
 "nbformat_minor": 2
}
